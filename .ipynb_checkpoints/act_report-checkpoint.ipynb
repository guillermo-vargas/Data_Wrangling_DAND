{
 "cells": [
  {
   "cell_type": "markdown",
   "metadata": {},
   "source": [
    "# WeRateDogs Twitter Archive Act Report"
   ]
  },
  {
   "cell_type": "markdown",
   "metadata": {},
   "source": [
    "### Summary\n",
    "\n",
    "The current project investigates the data wrangling capabilities of Python and its libraries by investigating the WeRateDogs Twitter account archive. This contains basic tweet data for the 2,356 tweets containing ratings (out of their 5,000+ twitter count) as of August 1, 2017.\n",
    "\n",
    "However, data in this archive is incomplete, and so is suplemented with additional data. In particular, retweet count and favourite count are missing from the archive, and these are gathered by querying Twitter's API via the particular tweet IDs from the archive. Simimlarly, neural network results classifying breeds of dogs were also included by programmatically downloading said image prediction data hosted in the Udacity servers.\n",
    "\n",
    "**Objectives**\n",
    "\n",
    "With this in mind, the project objectives revolved around wrangling the WeRateDogs Twitter data to generate clean and easily accessible data from which analyses and visualizations can be created to extract meaningful insights from the tweet metrics. "
   ]
  },
  {
   "cell_type": "markdown",
   "metadata": {},
   "source": [
    "### Data Wrangling\n",
    "\n",
    "Fulfillment of the objectives requires wrangling data to a state in which it is easily accessible and meaningful. This involves gathering all necessary data, assessing it, and finally cleaning it. Visual and programmatic assessment was performed, focusing on four dimensions of clean data, namely completeness, validness, accuracy and consistency. Quality and tidiness issues were then addressed by making use of Python and its libraries, after which the clean dataset with all meaningful metrics merged was stored for further analysis."
   ]
  },
  {
   "attachments": {},
   "cell_type": "markdown",
   "metadata": {},
   "source": [
    "### Data Analysis and Insights\n",
    "\n",
    "#### Retriever Dog Breed is the Most Popular\n",
    "When grouping tweets by dog breeds based on the neural network image predictions, the results shown in the horizontal bar plots below were obtained. Interestingly, the top 4 dog breeds by total number of breeds coincide in exactly the same order of popularity with those by total number of favourite tags. Retrievers are evidently the most popular dog breed (Golden Retriever first and Labrador Retriever second), followed by Pembroke in third place. A total of 8 out of the top 10 dog breeds in both scenarios coincide.\n",
    "\n",
    "from IPython.display import Image\n",
    "Image(\"images/top_breeds_by_number.png\")\n",
    "![title](images/top_breeds_by_number.png)\n",
    "\n",
    "from IPython.display import Image\n",
    "Image(\"images/top_breeds_by_favourites.png\")\n",
    "![title](images/top_breeds_by_favourites.png)\n",
    "\n",
    "#### Dog Ratings are Consistently High\n",
    "Data for numerator ratings is heavily skewed towards the left, with 75% of ratings exceeding a value of 10, and mean rating located at 10.5 (above the denominator standard value of 10).\n",
    "\n",
    "from IPython.display import Image\n",
    "Image(\"images/rating_distribution.png\")\n",
    "![title](images/rating_distribution.png)\n",
    "\n",
    "#### WeRateDogs Tweets Obtain More Favourite Tags than Retweets on Average\n",
    "Overall, both the mean and median values for favourite count are higher than that for retweet count. This indicates that, on average, people are more likely to favourite a WeRateDogs tweet than to retweet it.\n",
    "\n",
    "| Parameter | Mean | Median |\n",
    "| --- | --- | --- |\n",
    "| Retweet Count | 2446 | 1183 |\n",
    "| Favourite Count | 8271 | 3729 |\n",
    "\n",
    "#### Retweet Count and Favourite Count are Strongly Related\n",
    "Further from the insight that favourite tags are more likely than retweets, a strong positive correlation was identified between the retweet counts and favourite counts. As shown in the figure, the higher the favourite count, the higher the retweet count, with a Pearson's correlation factor of r=0.929.\n",
    "\n",
    "from IPython.display import Image\n",
    "Image(\"images/retweet_vs_favourite.png\")\n",
    "![title](images/retweet_vs_favourite.png)"
   ]
  },
  {
   "cell_type": "code",
   "execution_count": null,
   "metadata": {},
   "outputs": [],
   "source": []
  }
 ],
 "metadata": {
  "kernelspec": {
   "display_name": "Python 3",
   "language": "python",
   "name": "python3"
  },
  "language_info": {
   "codemirror_mode": {
    "name": "ipython",
    "version": 3
   },
   "file_extension": ".py",
   "mimetype": "text/x-python",
   "name": "python",
   "nbconvert_exporter": "python",
   "pygments_lexer": "ipython3",
   "version": "3.7.7"
  }
 },
 "nbformat": 4,
 "nbformat_minor": 4
}
